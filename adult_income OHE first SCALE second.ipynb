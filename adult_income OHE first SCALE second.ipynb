{
 "cells": [
  {
   "cell_type": "code",
   "execution_count": 1,
   "id": "7ef4d361-f289-436e-82a0-b0fdabe4f60b",
   "metadata": {},
   "outputs": [
    {
     "name": "stdout",
     "output_type": "stream",
     "text": [
      "# GPUs:  1\n",
      "CPU times: total: 4.95 s\n",
      "Wall time: 5.47 s\n"
     ]
    }
   ],
   "source": [
    "%%time\n",
    "from datetime import datetime\n",
    "a = datetime.now()\n",
    "\n",
    "import seaborn as sns\n",
    "import matplotlib.pyplot as plt\n",
    "\n",
    "sns.set_palette(\"afmhot\")\n",
    "# sns.set_palette(\"twilight\")\n",
    "# sns.set_style(\"darkgrid\",{\"axes.facebolor\":\"0.90\"})\n",
    "sns.set_context(\"notebook\", font_scale=1.5, rc={\"lines.linewidth\":1.5})\n",
    "sns.set_style(\"whitegrid\")\n",
    "import pylab\n",
    "pylab.rcParams['figure.figsize'] = (15, 8)\n",
    "plt.style.use('dark_background')\n",
    "# g= sns.pairplot(df,hue='species')\n",
    "# g.fig.set_size_inches(12,12)\n",
    "\n",
    "import tensorflow as tf\n",
    "print(\"# GPUs: \", len(tf.config.experimental.list_physical_devices(\"GPU\")))\n",
    "import numpy as np\n",
    "import tensorflow.keras as tfk\n",
    "import pandas as pd\n",
    "from tensorflow.keras.models import Sequential\n",
    "from tensorflow.keras.layers import Dense, Flatten\n",
    "\n",
    "\n",
    "from tensorflow.keras.layers import Dense, Activation, Dropout, Input, InputLayer\n",
    "from tensorflow.keras.optimizers import SGD"
   ]
  },
  {
   "cell_type": "markdown",
   "id": "1313e201-9d10-4820-adb2-8f88741a0424",
   "metadata": {},
   "source": [
    "https://www.kaggle.com/datasets/uciml/adult-census-income"
   ]
  },
  {
   "cell_type": "markdown",
   "id": "76515b08-d0b6-4a38-8433-29c190a15611",
   "metadata": {},
   "source": [
    "# <font color = 'lime'> Preprocessing </font>"
   ]
  },
  {
   "cell_type": "code",
   "execution_count": 2,
   "id": "ce8c56fd-98a3-49ba-92d3-2b0c33d531af",
   "metadata": {},
   "outputs": [],
   "source": [
    "from sklearn.metrics import classification_report, confusion_matrix\n",
    "from sklearn.preprocessing import MinMaxScaler, StandardScaler, StandardScaler, OneHotEncoder"
   ]
  },
  {
   "cell_type": "code",
   "execution_count": 8,
   "id": "d1ed656b-9483-4151-9d67-0e43a5ca694d",
   "metadata": {},
   "outputs": [],
   "source": [
    "df = pd.read_csv(\"data/adult_census_income/adult.csv\")\n",
    "target = 'income'\n",
    "# y = df[target]\n",
    "X = df.loc[:, df.columns != target]\n",
    "X['index']=X.index\n",
    "y = pd.read_csv(\"y.csv\")"
   ]
  },
  {
   "cell_type": "code",
   "execution_count": 14,
   "id": "7df19322-cb93-43ed-a34c-498907084d59",
   "metadata": {},
   "outputs": [],
   "source": [
    "X = pd.get_dummies(X)"
   ]
  },
  {
   "cell_type": "code",
   "execution_count": 15,
   "id": "b65b23b3-e8e3-47ec-9808-fc65ede38ec5",
   "metadata": {},
   "outputs": [],
   "source": [
    "from sklearn.model_selection import train_test_split\n",
    "X_train, X_test, y_train, y_test = train_test_split(X, y, test_size=0.33, random_state=99)"
   ]
  },
  {
   "cell_type": "code",
   "execution_count": 27,
   "id": "5c7a6eb5-252b-4d17-a173-16463d0d96e4",
   "metadata": {},
   "outputs": [
    {
     "data": {
      "text/plain": [
       "uint8    102\n",
       "int64      7\n",
       "dtype: int64"
      ]
     },
     "execution_count": 27,
     "metadata": {},
     "output_type": "execute_result"
    }
   ],
   "source": [
    "X_train.dtypes.value_counts()"
   ]
  },
  {
   "cell_type": "code",
   "execution_count": 21,
   "id": "2b0863a8-7bbf-4f2c-867d-041f48fc2f38",
   "metadata": {},
   "outputs": [
    {
     "data": {
      "text/plain": [
       "['age',\n",
       " 'fnlwgt',\n",
       " 'education.num',\n",
       " 'capital.gain',\n",
       " 'capital.loss',\n",
       " 'hours.per.week']"
      ]
     },
     "execution_count": 21,
     "metadata": {},
     "output_type": "execute_result"
    }
   ],
   "source": [
    "int64_features = list(X.select_dtypes(\"int64\").columns)\n",
    "int64_features.remove('index')\n",
    "int64_features"
   ]
  },
  {
   "cell_type": "code",
   "execution_count": 37,
   "id": "2cfff3a8-d16f-4f67-b205-bf1e8e914896",
   "metadata": {},
   "outputs": [],
   "source": [
    "ohe_columns = list(X_train.select_dtypes(\"uint8\").columns)\n",
    "ohe_columns.append(\"index\")"
   ]
  },
  {
   "cell_type": "markdown",
   "id": "ff6b817b-e2a1-4612-aa88-c1f7c088bae7",
   "metadata": {},
   "source": [
    "# <font color ='hotpink'> Scale Data </font>"
   ]
  },
  {
   "cell_type": "code",
   "execution_count": 41,
   "id": "e1c43589-6f32-4096-9bad-92c70d3ad6a6",
   "metadata": {},
   "outputs": [],
   "source": [
    "std_scale_train = StandardScaler()\n",
    "std_scale_test = StandardScaler()"
   ]
  },
  {
   "cell_type": "markdown",
   "id": "29d5b53f-27e1-4ec8-bd2d-c38a57d2a7d9",
   "metadata": {},
   "source": [
    "## <font color ='slateblue'>`X_train` </font>"
   ]
  },
  {
   "cell_type": "code",
   "execution_count": 53,
   "id": "bb83a0b6-e7ab-4be7-a008-d79fe14918ae",
   "metadata": {},
   "outputs": [
    {
     "data": {
      "text/plain": [
       "(21815, 7)"
      ]
     },
     "metadata": {},
     "output_type": "display_data"
    },
    {
     "data": {
      "text/plain": [
       "(21815, 108)"
      ]
     },
     "metadata": {},
     "output_type": "display_data"
    }
   ],
   "source": [
    "std_scale_train.fit_transform(X_train[int64_features])\n",
    "\n",
    "X_train_std = pd.DataFrame(std_scale_train.fit_transform(X_train[int64_features]),columns = int64_features)\n",
    "X_train_std['index'] = X_train.index\n",
    "display(X_train_std.shape)\n",
    "\n",
    "X_train_final = pd.merge(X_train_std,X_train[ohe_columns],on='index')\n",
    "X_train_final = X_train_final.drop('index',axis=1)\n",
    "display(X_train_final.shape)"
   ]
  },
  {
   "cell_type": "markdown",
   "id": "9c013f32-bcd6-4ed6-be4f-5e7e3df8a94d",
   "metadata": {},
   "source": [
    "## <font color ='slateblue'>`X_test` </font>"
   ]
  },
  {
   "cell_type": "code",
   "execution_count": 54,
   "id": "d0d189c9-6612-4021-9cf7-d205832b9703",
   "metadata": {},
   "outputs": [
    {
     "data": {
      "text/plain": [
       "(10746, 7)"
      ]
     },
     "metadata": {},
     "output_type": "display_data"
    },
    {
     "data": {
      "text/plain": [
       "(10746, 108)"
      ]
     },
     "metadata": {},
     "output_type": "display_data"
    }
   ],
   "source": [
    "std_scale_test.fit_transform(X_test[int64_features])\n",
    "\n",
    "X_test_std = pd.DataFrame(std_scale_train.fit_transform(X_test[int64_features]),columns = int64_features)\n",
    "X_test_std['index'] = X_test.index\n",
    "display(X_test_std.shape)\n",
    "\n",
    "X_test_final = pd.merge(X_test_std,X_test[ohe_columns],on='index')\n",
    "X_test_final = X_test_final.drop('index',axis=1)\n",
    "display(X_test_final.shape)"
   ]
  },
  {
   "cell_type": "markdown",
   "id": "ff11e3e5-7e7a-4fe3-83a4-6c968b3a66e8",
   "metadata": {},
   "source": [
    "# <font color = '#7337ed'> Neural Network</font>"
   ]
  },
  {
   "cell_type": "markdown",
   "id": "96c5888d-25b7-4a6f-8571-7c27c529e4b6",
   "metadata": {},
   "source": [
    "# <font color = '#7337ed'> Unscaled:</font>"
   ]
  },
  {
   "cell_type": "code",
   "execution_count": 58,
   "id": "6f6daaf7-5a7e-4861-9a21-828528adbb6a",
   "metadata": {},
   "outputs": [],
   "source": [
    "from tensorflow.keras.layers import Dense, InputLayer, Input\n",
    "from tensorflow.keras.models import Sequential"
   ]
  },
  {
   "cell_type": "code",
   "execution_count": 59,
   "id": "f5dc586b-3f85-4fcd-b77f-6aa4fe4249c4",
   "metadata": {},
   "outputs": [],
   "source": [
    "model = Sequential()"
   ]
  },
  {
   "cell_type": "code",
   "execution_count": 60,
   "id": "abfac8ed-99f3-410a-9509-cfab3a4b3823",
   "metadata": {},
   "outputs": [
    {
     "data": {
      "text/plain": [
       "108"
      ]
     },
     "execution_count": 60,
     "metadata": {},
     "output_type": "execute_result"
    }
   ],
   "source": [
    "X_train_final.shape[1]"
   ]
  },
  {
   "cell_type": "code",
   "execution_count": 61,
   "id": "6ec48139-50a0-4222-80ba-02696dbf1d48",
   "metadata": {},
   "outputs": [
    {
     "data": {
      "text/plain": [
       "4.762203155904598"
      ]
     },
     "execution_count": 61,
     "metadata": {},
     "output_type": "execute_result"
    }
   ],
   "source": [
    "108**(1/3)"
   ]
  },
  {
   "cell_type": "code",
   "execution_count": 86,
   "id": "8d3b13a7-6af9-49f1-817b-32df96ef6c0c",
   "metadata": {},
   "outputs": [
    {
     "name": "stdout",
     "output_type": "stream",
     "text": [
      "CPU times: total: 93.8 ms\n",
      "Wall time: 98.7 ms\n"
     ]
    }
   ],
   "source": [
    "%%time\n",
    "#first layer\n",
    "# model.add(InputLayer(input_shape=X_train.shape[1],))\n",
    "\n",
    "# model.add(Dense(108, input_dim=108, activation='relu'))\n",
    "\n",
    "model.add(Dense(108,activation='relu'))\n",
    "model.add(Dropout(0.33))\n",
    "model.add(Dense(108,activation='relu'))\n",
    "model.add(Dropout(0.33))\n",
    "model.add(Dense(108,activation='relu'))\n",
    "model.add(Dropout(0.33))\n",
    "model.add(Dense(54,activation='relu'))\n",
    "model.add(Dropout(0.33))\n",
    "model.add(Dense(54,activation='relu'))\n",
    "model.add(Dropout(0.33))\n",
    "model.add(Dense(54,activation='relu'))\n",
    "model.add(Dropout(0.33))\n",
    "model.add(Dense(27,activation='relu'))\n",
    "model.add(Dropout(0.33))\n",
    "model.add(Dense(1,activation='sigmoid'))\n",
    "\n",
    "model.compile(loss = 'binary_crossentropy', optimizer = 'adam',metrics=[\"accuracy\"])\n",
    "\n"
   ]
  },
  {
   "cell_type": "code",
   "execution_count": 87,
   "id": "71d312c9-e26f-4f93-95a9-7a522ac7232a",
   "metadata": {},
   "outputs": [
    {
     "data": {
      "text/plain": [
       "1024"
      ]
     },
     "execution_count": 87,
     "metadata": {},
     "output_type": "execute_result"
    }
   ],
   "source": [
    "2**10"
   ]
  },
  {
   "cell_type": "code",
   "execution_count": 103,
   "id": "b45bdd77-96d0-47b9-b488-d510e0cf5f97",
   "metadata": {},
   "outputs": [
    {
     "name": "stdout",
     "output_type": "stream",
     "text": [
      "Epoch 1/12\n",
      "5454/5454 [==============================] - 43s 8ms/step - loss: 0.4051 - accuracy: 0.8287 - val_loss: 0.3783 - val_accuracy: 0.8348\n",
      "Epoch 2/12\n",
      "5454/5454 [==============================] - 45s 8ms/step - loss: 0.3759 - accuracy: 0.8249 - val_loss: 0.3716 - val_accuracy: 0.8300\n",
      "Epoch 3/12\n",
      "5454/5454 [==============================] - 44s 8ms/step - loss: 0.3784 - accuracy: 0.8212 - val_loss: 0.3764 - val_accuracy: 0.8252\n",
      "Epoch 4/12\n",
      "5454/5454 [==============================] - 42s 8ms/step - loss: 0.3898 - accuracy: 0.8154 - val_loss: 0.3944 - val_accuracy: 0.7642\n",
      "Epoch 5/12\n",
      "5454/5454 [==============================] - 43s 8ms/step - loss: 0.3820 - accuracy: 0.8125 - val_loss: 0.3859 - val_accuracy: 0.8117\n",
      "Epoch 6/12\n",
      "5454/5454 [==============================] - 42s 8ms/step - loss: 0.3759 - accuracy: 0.8185 - val_loss: 0.3965 - val_accuracy: 0.8191\n",
      "Epoch 7/12\n",
      "5454/5454 [==============================] - 42s 8ms/step - loss: 0.3884 - accuracy: 0.8048 - val_loss: 0.3726 - val_accuracy: 0.8370\n",
      "Epoch 8/12\n",
      "5454/5454 [==============================] - 42s 8ms/step - loss: 0.3843 - accuracy: 0.8070 - val_loss: 0.3974 - val_accuracy: 0.7642\n",
      "Epoch 9/12\n",
      "5454/5454 [==============================] - 43s 8ms/step - loss: 0.3963 - accuracy: 0.8053 - val_loss: 0.3807 - val_accuracy: 0.8246\n",
      "Epoch 10/12\n",
      "5454/5454 [==============================] - 41s 8ms/step - loss: 0.3968 - accuracy: 0.8003 - val_loss: 0.4170 - val_accuracy: 0.8305\n",
      "Epoch 11/12\n",
      "5454/5454 [==============================] - 43s 8ms/step - loss: 0.3957 - accuracy: 0.7892 - val_loss: 0.3788 - val_accuracy: 0.8214\n",
      "Epoch 12/12\n",
      "5454/5454 [==============================] - 44s 8ms/step - loss: 0.3882 - accuracy: 0.7965 - val_loss: 0.3926 - val_accuracy: 0.8211\n",
      "CPU times: total: 9min 56s\n",
      "Wall time: 8min 33s\n"
     ]
    }
   ],
   "source": [
    "%%time\n",
    "history=model.fit(X_train_final,y_train, epochs=12,validation_data=(X_test_final,y_test),verbose=1,batch_size=2^6)"
   ]
  },
  {
   "cell_type": "markdown",
   "id": "f3351e91-8650-45fb-a96f-2b326b46db75",
   "metadata": {},
   "source": [
    "# <font color = '#fa5ff7'> stuck at 0.7597 "
   ]
  },
  {
   "cell_type": "code",
   "execution_count": 104,
   "id": "59133033-0fa7-4952-b13f-4061ab8c6d7a",
   "metadata": {},
   "outputs": [
    {
     "data": {
      "text/html": [
       "<div>\n",
       "<style scoped>\n",
       "    .dataframe tbody tr th:only-of-type {\n",
       "        vertical-align: middle;\n",
       "    }\n",
       "\n",
       "    .dataframe tbody tr th {\n",
       "        vertical-align: top;\n",
       "    }\n",
       "\n",
       "    .dataframe thead th {\n",
       "        text-align: right;\n",
       "    }\n",
       "</style>\n",
       "<table border=\"1\" class=\"dataframe\">\n",
       "  <thead>\n",
       "    <tr style=\"text-align: right;\">\n",
       "      <th></th>\n",
       "      <th>loss</th>\n",
       "      <th>accuracy</th>\n",
       "      <th>val_loss</th>\n",
       "      <th>val_accuracy</th>\n",
       "    </tr>\n",
       "  </thead>\n",
       "  <tbody>\n",
       "    <tr>\n",
       "      <th>0</th>\n",
       "      <td>0.405126</td>\n",
       "      <td>0.828742</td>\n",
       "      <td>0.378293</td>\n",
       "      <td>0.834822</td>\n",
       "    </tr>\n",
       "    <tr>\n",
       "      <th>1</th>\n",
       "      <td>0.375897</td>\n",
       "      <td>0.824891</td>\n",
       "      <td>0.371585</td>\n",
       "      <td>0.829983</td>\n",
       "    </tr>\n",
       "    <tr>\n",
       "      <th>2</th>\n",
       "      <td>0.378444</td>\n",
       "      <td>0.821178</td>\n",
       "      <td>0.376352</td>\n",
       "      <td>0.825237</td>\n",
       "    </tr>\n",
       "    <tr>\n",
       "      <th>3</th>\n",
       "      <td>0.389761</td>\n",
       "      <td>0.815448</td>\n",
       "      <td>0.394388</td>\n",
       "      <td>0.764191</td>\n",
       "    </tr>\n",
       "    <tr>\n",
       "      <th>4</th>\n",
       "      <td>0.382017</td>\n",
       "      <td>0.812514</td>\n",
       "      <td>0.385914</td>\n",
       "      <td>0.811744</td>\n",
       "    </tr>\n",
       "    <tr>\n",
       "      <th>5</th>\n",
       "      <td>0.375891</td>\n",
       "      <td>0.818474</td>\n",
       "      <td>0.396543</td>\n",
       "      <td>0.819095</td>\n",
       "    </tr>\n",
       "    <tr>\n",
       "      <th>6</th>\n",
       "      <td>0.388390</td>\n",
       "      <td>0.804813</td>\n",
       "      <td>0.372626</td>\n",
       "      <td>0.836963</td>\n",
       "    </tr>\n",
       "    <tr>\n",
       "      <th>7</th>\n",
       "      <td>0.384337</td>\n",
       "      <td>0.806968</td>\n",
       "      <td>0.397375</td>\n",
       "      <td>0.764191</td>\n",
       "    </tr>\n",
       "    <tr>\n",
       "      <th>8</th>\n",
       "      <td>0.396334</td>\n",
       "      <td>0.805317</td>\n",
       "      <td>0.380743</td>\n",
       "      <td>0.824586</td>\n",
       "    </tr>\n",
       "    <tr>\n",
       "      <th>9</th>\n",
       "      <td>0.396819</td>\n",
       "      <td>0.800321</td>\n",
       "      <td>0.416957</td>\n",
       "      <td>0.830542</td>\n",
       "    </tr>\n",
       "    <tr>\n",
       "      <th>10</th>\n",
       "      <td>0.395722</td>\n",
       "      <td>0.789228</td>\n",
       "      <td>0.378780</td>\n",
       "      <td>0.821422</td>\n",
       "    </tr>\n",
       "    <tr>\n",
       "      <th>11</th>\n",
       "      <td>0.388165</td>\n",
       "      <td>0.796470</td>\n",
       "      <td>0.392609</td>\n",
       "      <td>0.821143</td>\n",
       "    </tr>\n",
       "  </tbody>\n",
       "</table>\n",
       "</div>"
      ],
      "text/plain": [
       "        loss  accuracy  val_loss  val_accuracy\n",
       "0   0.405126  0.828742  0.378293      0.834822\n",
       "1   0.375897  0.824891  0.371585      0.829983\n",
       "2   0.378444  0.821178  0.376352      0.825237\n",
       "3   0.389761  0.815448  0.394388      0.764191\n",
       "4   0.382017  0.812514  0.385914      0.811744\n",
       "5   0.375891  0.818474  0.396543      0.819095\n",
       "6   0.388390  0.804813  0.372626      0.836963\n",
       "7   0.384337  0.806968  0.397375      0.764191\n",
       "8   0.396334  0.805317  0.380743      0.824586\n",
       "9   0.396819  0.800321  0.416957      0.830542\n",
       "10  0.395722  0.789228  0.378780      0.821422\n",
       "11  0.388165  0.796470  0.392609      0.821143"
      ]
     },
     "execution_count": 104,
     "metadata": {},
     "output_type": "execute_result"
    }
   ],
   "source": [
    "pd.DataFrame(history.history)"
   ]
  },
  {
   "cell_type": "code",
   "execution_count": 105,
   "id": "ac620c67-82dd-48ed-a8e9-4dd19b3e5afb",
   "metadata": {},
   "outputs": [
    {
     "data": {
      "text/plain": [
       "<AxesSubplot:>"
      ]
     },
     "execution_count": 105,
     "metadata": {},
     "output_type": "execute_result"
    },
    {
     "data": {
      "image/png": "[encoded data removed]",
      "text/plain": [
       "<Figure size 1080x576 with 1 Axes>"
      ]
     },
     "metadata": {},
     "output_type": "display_data"
    }
   ],
   "source": [
    "pd.DataFrame(history.history)[['val_loss','loss']].plot()"
   ]
  },
  {
   "cell_type": "code",
   "execution_count": 106,
   "id": "817eed1b-f231-4717-b2bc-c073231adfff",
   "metadata": {},
   "outputs": [
    {
     "data": {
      "text/plain": [
       "<AxesSubplot:>"
      ]
     },
     "execution_count": 106,
     "metadata": {},
     "output_type": "execute_result"
    },
    {
     "data": {
      "image/png": "[encoded data removed]",
      "text/plain": [
       "<Figure size 1080x576 with 1 Axes>"
      ]
     },
     "metadata": {},
     "output_type": "display_data"
    }
   ],
   "source": [
    "pd.DataFrame(history.history)[['accuracy','val_accuracy']].plot()"
   ]
  },
  {
   "cell_type": "code",
   "execution_count": 107,
   "id": "830635c7-5d9e-406a-a4a3-496d7b8c6e43",
   "metadata": {},
   "outputs": [
    {
     "data": {
      "text/html": [
       "<div>\n",
       "<style scoped>\n",
       "    .dataframe tbody tr th:only-of-type {\n",
       "        vertical-align: middle;\n",
       "    }\n",
       "\n",
       "    .dataframe tbody tr th {\n",
       "        vertical-align: top;\n",
       "    }\n",
       "\n",
       "    .dataframe thead th {\n",
       "        text-align: right;\n",
       "    }\n",
       "</style>\n",
       "<table border=\"1\" class=\"dataframe\">\n",
       "  <thead>\n",
       "    <tr style=\"text-align: right;\">\n",
       "      <th></th>\n",
       "      <th>age</th>\n",
       "      <th>fnlwgt</th>\n",
       "      <th>education.num</th>\n",
       "      <th>capital.gain</th>\n",
       "      <th>capital.loss</th>\n",
       "      <th>hours.per.week</th>\n",
       "      <th>index</th>\n",
       "      <th>workclass_?</th>\n",
       "      <th>workclass_Federal-gov</th>\n",
       "      <th>workclass_Local-gov</th>\n",
       "      <th>...</th>\n",
       "      <th>native.country_Portugal</th>\n",
       "      <th>native.country_Puerto-Rico</th>\n",
       "      <th>native.country_Scotland</th>\n",
       "      <th>native.country_South</th>\n",
       "      <th>native.country_Taiwan</th>\n",
       "      <th>native.country_Thailand</th>\n",
       "      <th>native.country_Trinadad&amp;Tobago</th>\n",
       "      <th>native.country_United-States</th>\n",
       "      <th>native.country_Vietnam</th>\n",
       "      <th>native.country_Yugoslavia</th>\n",
       "    </tr>\n",
       "  </thead>\n",
       "  <tbody>\n",
       "    <tr>\n",
       "      <th>31850</th>\n",
       "      <td>37</td>\n",
       "      <td>140673</td>\n",
       "      <td>10</td>\n",
       "      <td>0</td>\n",
       "      <td>0</td>\n",
       "      <td>40</td>\n",
       "      <td>31850</td>\n",
       "      <td>0</td>\n",
       "      <td>0</td>\n",
       "      <td>0</td>\n",
       "      <td>...</td>\n",
       "      <td>0</td>\n",
       "      <td>0</td>\n",
       "      <td>0</td>\n",
       "      <td>0</td>\n",
       "      <td>0</td>\n",
       "      <td>0</td>\n",
       "      <td>0</td>\n",
       "      <td>1</td>\n",
       "      <td>0</td>\n",
       "      <td>0</td>\n",
       "    </tr>\n",
       "    <tr>\n",
       "      <th>3537</th>\n",
       "      <td>25</td>\n",
       "      <td>262245</td>\n",
       "      <td>11</td>\n",
       "      <td>3418</td>\n",
       "      <td>0</td>\n",
       "      <td>40</td>\n",
       "      <td>3537</td>\n",
       "      <td>1</td>\n",
       "      <td>0</td>\n",
       "      <td>0</td>\n",
       "      <td>...</td>\n",
       "      <td>0</td>\n",
       "      <td>0</td>\n",
       "      <td>0</td>\n",
       "      <td>0</td>\n",
       "      <td>0</td>\n",
       "      <td>0</td>\n",
       "      <td>0</td>\n",
       "      <td>1</td>\n",
       "      <td>0</td>\n",
       "      <td>0</td>\n",
       "    </tr>\n",
       "    <tr>\n",
       "      <th>9258</th>\n",
       "      <td>51</td>\n",
       "      <td>163052</td>\n",
       "      <td>9</td>\n",
       "      <td>0</td>\n",
       "      <td>0</td>\n",
       "      <td>40</td>\n",
       "      <td>9258</td>\n",
       "      <td>0</td>\n",
       "      <td>0</td>\n",
       "      <td>0</td>\n",
       "      <td>...</td>\n",
       "      <td>0</td>\n",
       "      <td>0</td>\n",
       "      <td>0</td>\n",
       "      <td>0</td>\n",
       "      <td>0</td>\n",
       "      <td>0</td>\n",
       "      <td>0</td>\n",
       "      <td>1</td>\n",
       "      <td>0</td>\n",
       "      <td>0</td>\n",
       "    </tr>\n",
       "    <tr>\n",
       "      <th>20399</th>\n",
       "      <td>64</td>\n",
       "      <td>86837</td>\n",
       "      <td>12</td>\n",
       "      <td>0</td>\n",
       "      <td>0</td>\n",
       "      <td>40</td>\n",
       "      <td>20399</td>\n",
       "      <td>0</td>\n",
       "      <td>1</td>\n",
       "      <td>0</td>\n",
       "      <td>...</td>\n",
       "      <td>0</td>\n",
       "      <td>0</td>\n",
       "      <td>0</td>\n",
       "      <td>0</td>\n",
       "      <td>0</td>\n",
       "      <td>0</td>\n",
       "      <td>0</td>\n",
       "      <td>1</td>\n",
       "      <td>0</td>\n",
       "      <td>0</td>\n",
       "    </tr>\n",
       "    <tr>\n",
       "      <th>13644</th>\n",
       "      <td>43</td>\n",
       "      <td>198965</td>\n",
       "      <td>14</td>\n",
       "      <td>0</td>\n",
       "      <td>0</td>\n",
       "      <td>40</td>\n",
       "      <td>13644</td>\n",
       "      <td>0</td>\n",
       "      <td>0</td>\n",
       "      <td>0</td>\n",
       "      <td>...</td>\n",
       "      <td>0</td>\n",
       "      <td>0</td>\n",
       "      <td>0</td>\n",
       "      <td>0</td>\n",
       "      <td>0</td>\n",
       "      <td>0</td>\n",
       "      <td>0</td>\n",
       "      <td>1</td>\n",
       "      <td>0</td>\n",
       "      <td>0</td>\n",
       "    </tr>\n",
       "    <tr>\n",
       "      <th>...</th>\n",
       "      <td>...</td>\n",
       "      <td>...</td>\n",
       "      <td>...</td>\n",
       "      <td>...</td>\n",
       "      <td>...</td>\n",
       "      <td>...</td>\n",
       "      <td>...</td>\n",
       "      <td>...</td>\n",
       "      <td>...</td>\n",
       "      <td>...</td>\n",
       "      <td>...</td>\n",
       "      <td>...</td>\n",
       "      <td>...</td>\n",
       "      <td>...</td>\n",
       "      <td>...</td>\n",
       "      <td>...</td>\n",
       "      <td>...</td>\n",
       "      <td>...</td>\n",
       "      <td>...</td>\n",
       "      <td>...</td>\n",
       "      <td>...</td>\n",
       "    </tr>\n",
       "    <tr>\n",
       "      <th>16963</th>\n",
       "      <td>57</td>\n",
       "      <td>200316</td>\n",
       "      <td>10</td>\n",
       "      <td>0</td>\n",
       "      <td>0</td>\n",
       "      <td>40</td>\n",
       "      <td>16963</td>\n",
       "      <td>0</td>\n",
       "      <td>0</td>\n",
       "      <td>0</td>\n",
       "      <td>...</td>\n",
       "      <td>0</td>\n",
       "      <td>0</td>\n",
       "      <td>0</td>\n",
       "      <td>0</td>\n",
       "      <td>0</td>\n",
       "      <td>0</td>\n",
       "      <td>0</td>\n",
       "      <td>1</td>\n",
       "      <td>0</td>\n",
       "      <td>0</td>\n",
       "    </tr>\n",
       "    <tr>\n",
       "      <th>8252</th>\n",
       "      <td>59</td>\n",
       "      <td>381851</td>\n",
       "      <td>5</td>\n",
       "      <td>0</td>\n",
       "      <td>0</td>\n",
       "      <td>40</td>\n",
       "      <td>8252</td>\n",
       "      <td>0</td>\n",
       "      <td>0</td>\n",
       "      <td>0</td>\n",
       "      <td>...</td>\n",
       "      <td>0</td>\n",
       "      <td>0</td>\n",
       "      <td>0</td>\n",
       "      <td>0</td>\n",
       "      <td>0</td>\n",
       "      <td>0</td>\n",
       "      <td>0</td>\n",
       "      <td>1</td>\n",
       "      <td>0</td>\n",
       "      <td>0</td>\n",
       "    </tr>\n",
       "    <tr>\n",
       "      <th>2969</th>\n",
       "      <td>69</td>\n",
       "      <td>169717</td>\n",
       "      <td>13</td>\n",
       "      <td>6418</td>\n",
       "      <td>0</td>\n",
       "      <td>45</td>\n",
       "      <td>2969</td>\n",
       "      <td>0</td>\n",
       "      <td>0</td>\n",
       "      <td>0</td>\n",
       "      <td>...</td>\n",
       "      <td>0</td>\n",
       "      <td>0</td>\n",
       "      <td>0</td>\n",
       "      <td>0</td>\n",
       "      <td>0</td>\n",
       "      <td>0</td>\n",
       "      <td>0</td>\n",
       "      <td>1</td>\n",
       "      <td>0</td>\n",
       "      <td>0</td>\n",
       "    </tr>\n",
       "    <tr>\n",
       "      <th>25792</th>\n",
       "      <td>59</td>\n",
       "      <td>170411</td>\n",
       "      <td>4</td>\n",
       "      <td>0</td>\n",
       "      <td>0</td>\n",
       "      <td>40</td>\n",
       "      <td>25792</td>\n",
       "      <td>0</td>\n",
       "      <td>0</td>\n",
       "      <td>0</td>\n",
       "      <td>...</td>\n",
       "      <td>0</td>\n",
       "      <td>0</td>\n",
       "      <td>0</td>\n",
       "      <td>0</td>\n",
       "      <td>0</td>\n",
       "      <td>0</td>\n",
       "      <td>0</td>\n",
       "      <td>1</td>\n",
       "      <td>0</td>\n",
       "      <td>0</td>\n",
       "    </tr>\n",
       "    <tr>\n",
       "      <th>20595</th>\n",
       "      <td>23</td>\n",
       "      <td>115326</td>\n",
       "      <td>10</td>\n",
       "      <td>0</td>\n",
       "      <td>0</td>\n",
       "      <td>20</td>\n",
       "      <td>20595</td>\n",
       "      <td>0</td>\n",
       "      <td>0</td>\n",
       "      <td>0</td>\n",
       "      <td>...</td>\n",
       "      <td>0</td>\n",
       "      <td>0</td>\n",
       "      <td>0</td>\n",
       "      <td>0</td>\n",
       "      <td>0</td>\n",
       "      <td>0</td>\n",
       "      <td>0</td>\n",
       "      <td>1</td>\n",
       "      <td>0</td>\n",
       "      <td>0</td>\n",
       "    </tr>\n",
       "  </tbody>\n",
       "</table>\n",
       "<p>10746 rows × 109 columns</p>\n",
       "</div>"
      ],
      "text/plain": [
       "       age  fnlwgt  education.num  capital.gain  capital.loss  hours.per.week  \\\n",
       "31850   37  140673             10             0             0              40   \n",
       "3537    25  262245             11          3418             0              40   \n",
       "9258    51  163052              9             0             0              40   \n",
       "20399   64   86837             12             0             0              40   \n",
       "13644   43  198965             14             0             0              40   \n",
       "...    ...     ...            ...           ...           ...             ...   \n",
       "16963   57  200316             10             0             0              40   \n",
       "8252    59  381851              5             0             0              40   \n",
       "2969    69  169717             13          6418             0              45   \n",
       "25792   59  170411              4             0             0              40   \n",
       "20595   23  115326             10             0             0              20   \n",
       "\n",
       "       index  workclass_?  workclass_Federal-gov  workclass_Local-gov  ...  \\\n",
       "31850  31850            0                      0                    0  ...   \n",
       "3537    3537            1                      0                    0  ...   \n",
       "9258    9258            0                      0                    0  ...   \n",
       "20399  20399            0                      1                    0  ...   \n",
       "13644  13644            0                      0                    0  ...   \n",
       "...      ...          ...                    ...                  ...  ...   \n",
       "16963  16963            0                      0                    0  ...   \n",
       "8252    8252            0                      0                    0  ...   \n",
       "2969    2969            0                      0                    0  ...   \n",
       "25792  25792            0                      0                    0  ...   \n",
       "20595  20595            0                      0                    0  ...   \n",
       "\n",
       "       native.country_Portugal  native.country_Puerto-Rico  \\\n",
       "31850                        0                           0   \n",
       "3537                         0                           0   \n",
       "9258                         0                           0   \n",
       "20399                        0                           0   \n",
       "13644                        0                           0   \n",
       "...                        ...                         ...   \n",
       "16963                        0                           0   \n",
       "8252                         0                           0   \n",
       "2969                         0                           0   \n",
       "25792                        0                           0   \n",
       "20595                        0                           0   \n",
       "\n",
       "       native.country_Scotland  native.country_South  native.country_Taiwan  \\\n",
       "31850                        0                     0                      0   \n",
       "3537                         0                     0                      0   \n",
       "9258                         0                     0                      0   \n",
       "20399                        0                     0                      0   \n",
       "13644                        0                     0                      0   \n",
       "...                        ...                   ...                    ...   \n",
       "16963                        0                     0                      0   \n",
       "8252                         0                     0                      0   \n",
       "2969                         0                     0                      0   \n",
       "25792                        0                     0                      0   \n",
       "20595                        0                     0                      0   \n",
       "\n",
       "       native.country_Thailand  native.country_Trinadad&Tobago  \\\n",
       "31850                        0                               0   \n",
       "3537                         0                               0   \n",
       "9258                         0                               0   \n",
       "20399                        0                               0   \n",
       "13644                        0                               0   \n",
       "...                        ...                             ...   \n",
       "16963                        0                               0   \n",
       "8252                         0                               0   \n",
       "2969                         0                               0   \n",
       "25792                        0                               0   \n",
       "20595                        0                               0   \n",
       "\n",
       "       native.country_United-States  native.country_Vietnam  \\\n",
       "31850                             1                       0   \n",
       "3537                              1                       0   \n",
       "9258                              1                       0   \n",
       "20399                             1                       0   \n",
       "13644                             1                       0   \n",
       "...                             ...                     ...   \n",
       "16963                             1                       0   \n",
       "8252                              1                       0   \n",
       "2969                              1                       0   \n",
       "25792                             1                       0   \n",
       "20595                             1                       0   \n",
       "\n",
       "       native.country_Yugoslavia  \n",
       "31850                          0  \n",
       "3537                           0  \n",
       "9258                           0  \n",
       "20399                          0  \n",
       "13644                          0  \n",
       "...                          ...  \n",
       "16963                          0  \n",
       "8252                           0  \n",
       "2969                           0  \n",
       "25792                          0  \n",
       "20595                          0  \n",
       "\n",
       "[10746 rows x 109 columns]"
      ]
     },
     "execution_count": 107,
     "metadata": {},
     "output_type": "execute_result"
    }
   ],
   "source": [
    "X_test"
   ]
  },
  {
   "cell_type": "code",
   "execution_count": 108,
   "id": "8cc65fce-500e-42dd-8f32-767431439337",
   "metadata": {},
   "outputs": [],
   "source": [
    "pred = model.predict(X_test_final)"
   ]
  },
  {
   "cell_type": "code",
   "execution_count": 109,
   "id": "7bc01a8f-379e-40d1-b664-65857eb4f9b3",
   "metadata": {},
   "outputs": [
    {
     "data": {
      "text/plain": [
       "array([[0.6365639 ],\n",
       "       [0.09715095],\n",
       "       [0.3423309 ],\n",
       "       ...,\n",
       "       [0.6365639 ],\n",
       "       [0.19406214],\n",
       "       [0.09715095]], dtype=float32)"
      ]
     },
     "execution_count": 109,
     "metadata": {},
     "output_type": "execute_result"
    }
   ],
   "source": [
    "pred"
   ]
  },
  {
   "cell_type": "code",
   "execution_count": 110,
   "id": "12550373-7b2d-4a1d-bc42-5be21ecdfbc0",
   "metadata": {},
   "outputs": [],
   "source": [
    "final_pred = pred > 0.5"
   ]
  },
  {
   "cell_type": "code",
   "execution_count": 111,
   "id": "7020a0ad-7fd4-4dc0-b535-6f9fe703008e",
   "metadata": {},
   "outputs": [],
   "source": [
    "from sklearn.metrics import classification_report, confusion_matrix"
   ]
  },
  {
   "cell_type": "code",
   "execution_count": 112,
   "id": "46f20528-ea14-4722-9f81-4671f1c771af",
   "metadata": {},
   "outputs": [
    {
     "name": "stdout",
     "output_type": "stream",
     "text": [
      "              precision    recall  f1-score   support\n",
      "\n",
      "           0       0.91      0.85      0.88      8212\n",
      "           1       0.60      0.72      0.65      2534\n",
      "\n",
      "    accuracy                           0.82     10746\n",
      "   macro avg       0.75      0.79      0.77     10746\n",
      "weighted avg       0.84      0.82      0.83     10746\n",
      "\n"
     ]
    }
   ],
   "source": [
    "print(classification_report(y_test,final_pred))"
   ]
  },
  {
   "cell_type": "code",
   "execution_count": null,
   "id": "ea108a4d-7856-4771-826b-672ace60ab05",
   "metadata": {},
   "outputs": [],
   "source": []
  },
  {
   "cell_type": "code",
   "execution_count": null,
   "id": "c2c5a798-64ea-4a7c-8e21-db15496ebf21",
   "metadata": {},
   "outputs": [],
   "source": []
  },
  {
   "cell_type": "code",
   "execution_count": 67,
   "id": "0c43e48c-bef4-4cf0-b5d0-7acee94354cd",
   "metadata": {},
   "outputs": [],
   "source": [
    "#############\n",
    "# model = tfk.models.Sequential()\n",
    "# opt = SGD(learning_rate =0.1)\n",
    "\n",
    "# X_train.shape\n",
    "\n",
    "# model.add(InputLayer(input_shape=(X_train.shape[1],)))\n",
    "# model.add(Dense(1))\n",
    "# model.compile(loss='mse',optimizer='adam')\n",
    "# print(model.summary())\n",
    "\n",
    "# history = model.fit(X_train, y_train, verbose=0,epochs=3000, validation_data = (X_test, y_test))\n",
    "\n",
    "# pd.DataFrame(hist).plot()\n",
    "\n",
    "# weights=model.layers[0].get_weights()[0]\n",
    "# biases=model.layers[0].get_weights()[1]\n",
    "# weights,biases"
   ]
  },
  {
   "cell_type": "code",
   "execution_count": null,
   "id": "4a049e32-c80f-4e5e-8626-184ceee0fd62",
   "metadata": {},
   "outputs": [],
   "source": []
  }
 ],
 "metadata": {
  "kernelspec": {
   "display_name": "tf500",
   "language": "python",
   "name": "tf500"
  },
  "language_info": {
   "codemirror_mode": {
    "name": "ipython",
    "version": 3
   },
   "file_extension": ".py",
   "mimetype": "text/x-python",
   "name": "python",
   "nbconvert_exporter": "python",
   "pygments_lexer": "ipython3",
   "version": "3.10.0"
  }
 },
 "nbformat": 4,
 "nbformat_minor": 5
}
