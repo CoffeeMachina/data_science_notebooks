{
 "cells": [
  {
   "cell_type": "code",
   "execution_count": 2,
   "id": "e0ed6705-11bb-4730-b3fa-ca96726fbbd8",
   "metadata": {},
   "outputs": [
    {
     "name": "stdout",
     "output_type": "stream",
     "text": [
      "# GPUs:  1\n",
      "CPU times: total: 219 ms\n",
      "Wall time: 224 ms\n"
     ]
    }
   ],
   "source": [
    "%%time\n",
    "import seaborn as sns\n",
    "import matplotlib.pyplot as plt\n",
    "\n",
    "sns.set_palette(\"afmhot\")\n",
    "\n",
    "sns.set_context(\"notebook\", font_scale=1.5, rc={\"lines.linewidth\":1.5})\n",
    "sns.set_style(\"whitegrid\")\n",
    "import pylab\n",
    "pylab.rcParams['figure.figsize'] = (15, 8)\n",
    "plt.style.use('dark_background')\n",
    "\n",
    "\n",
    "import tensorflow as tf\n",
    "print(\"# GPUs: \", len(tf.config.experimental.list_physical_devices(\"GPU\")))\n",
    "import numpy as np\n",
    "import tensorflow.keras as tfk\n",
    "import pandas as pd\n",
    "from tensorflow.keras.models import Sequential\n",
    "from tensorflow.keras.layers import Dense, Flatten\n",
    "from sklearn.model_selection import train_test_split\n",
    "\n",
    "from tensorflow.keras.layers import Dense, Activation, Dropout, Input, InputLayer\n",
    "from tensorflow.keras.optimizers import SGD\n",
    "\n",
    "import tensorflow.keras.datasets.mnist as mnist\n",
    "from scikeras.wrappers import KerasClassifier\n",
    "from sklearn.model_selection import GridSearchCV\n",
    "data = mnist.load_data()\n"
   ]
  },
  {
   "cell_type": "code",
   "execution_count": 3,
   "id": "1b213c4d-6f2a-45ee-b1c7-35c61e1f9453",
   "metadata": {},
   "outputs": [],
   "source": [
    "(X_train, y_train),(X_test, y_test) = data\n",
    "np.random.seed(42)\n",
    "\n",
    "X_train, X_test = X_train / 255.0, X_test / 255.0\n",
    "\n",
    "X_train = X_train.reshape(60000, 784)\n",
    "X_test = X_test.reshape(10000, 784)\n",
    "\n",
    "NUM_CLASSES = 10\n",
    "\n",
    "X_grid, X_junk, y_grid, y_junk = train_test_split(X_train, y_train, test_size=0.90, random_state=42)\n",
    "\n",
    "\n",
    "INPUT_DIM = X_grid.shape[1]\n",
    "\n",
    "\n",
    "\n",
    "learning_rate = [0.0001, 0.001, 0.01, 0.1]\n",
    "momentum = [0.3, 0.5, 0.7, 0.9]\n",
    "\n",
    "\n",
    "\n",
    "BATCH_SIZE = 100\n",
    "EPOCHS = 5\n",
    "\n"
   ]
  },
  {
   "cell_type": "code",
   "execution_count": 4,
   "id": "669d1fb3-140b-426b-b60c-2f3ca11f0d6a",
   "metadata": {},
   "outputs": [
    {
     "data": {
      "text/plain": [
       "(6000, 784)"
      ]
     },
     "execution_count": 4,
     "metadata": {},
     "output_type": "execute_result"
    }
   ],
   "source": [
    "X_grid.shape"
   ]
  },
  {
   "cell_type": "markdown",
   "id": "72860e25-2270-4b71-bcd9-ce888e2e552a",
   "metadata": {},
   "source": [
    "# <font color = 'lime'> ANN Hyperparameter Tuning MANUAL:</font>"
   ]
  },
  {
   "cell_type": "markdown",
   "id": "0ec595ce-9ad3-435c-b809-7d82bc13d8af",
   "metadata": {},
   "source": [
    "# <font color = 'lime'> ANN CV:</font>"
   ]
  },
  {
   "cell_type": "markdown",
   "id": "cd963aa1-f6d2-4409-a7a4-6a38d7e91af0",
   "metadata": {},
   "source": [
    "# <font color = 'slateblue'> Cross Validation Complete"
   ]
  },
  {
   "cell_type": "code",
   "execution_count": 92,
   "id": "48dfd755-2217-42ab-a7df-74868220d440",
   "metadata": {},
   "outputs": [
    {
     "name": "stdout",
     "output_type": "stream",
     "text": [
      "CPU times: total: 0 ns\n",
      "Wall time: 0 ns\n"
     ]
    }
   ],
   "source": [
    "%%time\n",
    "results = {}\n",
    "\n",
    "def ANN2(LR=0.01,MOMENT=0.1,X=X_grid,y=y_grid,i=0):    \n",
    "    model = Sequential()\n",
    "    model.add(Dense(64, activation='relu', kernel_initializer='uniform',input_dim = INPUT_DIM))\n",
    "    model.add(Dropout(0.1))\n",
    "    model.add(Dense(64, kernel_initializer='uniform', activation='relu'))\n",
    "    model.add(Dropout(0.1))\n",
    "    model.add(Dense(NUM_CLASSES, kernel_initializer='uniform',activation='softmax'))\n",
    "\n",
    "    optimizer = SGD(learning_rate=LR, momentum = MOMENT)\n",
    "    model.compile(loss='sparse_categorical_crossentropy',optimizer = optimizer, metrics=['acc'])\n",
    "    \n",
    "    # print(f'LR_{LR}__MOM{MOMENT}_{i}')\n",
    "    history = model.fit(X, y,epochs=EPOCHS,batch_size = BATCH_SIZE,verbose=0)\n",
    "    # print(\"\")\n",
    "    evaluation = model.evaluate(X_test,y_test,verbose=0)\n",
    "    # print(\"\")\n",
    "    results[f'LR_{LR}__MOM{MOMENT}'] = evaluation[1]\n",
    "    return evaluation[1]\n",
    "    # pd.DataFrame(history.history).plot()\n",
    "    # plt.title(f\"LR_{LR}__MOM{MOMENT}\")\n",
    "    # plt.show();"
   ]
  },
  {
   "cell_type": "markdown",
   "id": "51630cc5-6476-4b50-8539-44aa47fa259c",
   "metadata": {},
   "source": [
    "# <font color = 'lime'> Cross Validation && HP-GS"
   ]
  },
  {
   "cell_type": "code",
   "execution_count": 87,
   "id": "1029562c-4f64-4c9b-be81-dee93ea51e8d",
   "metadata": {},
   "outputs": [
    {
     "data": {
      "text/plain": [
       "[0.0001, 0.001, 0.01, 0.1]"
      ]
     },
     "metadata": {},
     "output_type": "display_data"
    },
    {
     "data": {
      "text/plain": [
       "[0.3, 0.5, 0.7, 0.9]"
      ]
     },
     "metadata": {},
     "output_type": "display_data"
    }
   ],
   "source": [
    "learning_rate = [0.0001, 0.001, 0.01, 0.1]\n",
    "momentum = [0.3, 0.5, 0.7, 0.9]\n",
    "\n",
    "display(learning_rate)\n",
    "display(momentum)"
   ]
  },
  {
   "cell_type": "code",
   "execution_count": 90,
   "id": "2a6861dd-dc62-4537-9805-043b6d1db774",
   "metadata": {},
   "outputs": [
    {
     "data": {
      "text/plain": [
       "615"
      ]
     },
     "execution_count": 90,
     "metadata": {},
     "output_type": "execute_result"
    }
   ],
   "source": [
    "np.random.randint(1,999)"
   ]
  },
  {
   "cell_type": "code",
   "execution_count": 101,
   "id": "a526147c-83d0-4aac-bfe1-bbc26b4d96b9",
   "metadata": {},
   "outputs": [
    {
     "name": "stdout",
     "output_type": "stream",
     "text": [
      "CPU times: total: 0 ns\n",
      "Wall time: 0 ns\n"
     ]
    }
   ],
   "source": [
    "%%time\n",
    "from sklearn.utils import shuffle\n",
    "def cv_np(K_FOLD = 5, np_shape = X_grid.shape[0],SEED=np.random.randint(1,999)):  \n",
    "    K_FOLD = K_FOLD\n",
    "    SLICE_LEN = X_grid.shape[0]//K_FOLD\n",
    "    # SEED = 415\n",
    "    np0 = shuffle(X_grid,y_grid,random_state=SEED)\n",
    "\n",
    "    COUNTER=0\n",
    "    AGG_SCORE = []\n",
    "    AGG_DICT = {}\n",
    "    AGG_DICT_SIMPLE = {}\n",
    "    \n",
    "    for lr in learning_rate:\n",
    "        for mom in momentum:            \n",
    "            for x in range(K_FOLD):\n",
    "                COUNTER+=1\n",
    "                i = (x*SLICE_LEN)\n",
    "                j = ((x+1)*SLICE_LEN)\n",
    "                # print(np0[0][i:j]) # slice iteration for X\n",
    "                X_cv=np0[0][i:j]\n",
    "\n",
    "                y_cv=np0[1][i:j]\n",
    "\n",
    "                SCORE = ANN2(lr, mom, X_cv,y_cv)\n",
    "                # AGG_SCORE.append(SCORE)\n",
    "                \n",
    "                # AGG_DICT[f\"LR{lr}__M{mom}_{x}\"] = SCORE\n",
    "                \n",
    "                if f\"LR{lr}__M{mom}\" not in AGG_DICT_SIMPLE.keys():\n",
    "                    AGG_DICT_SIMPLE[f\"LR{lr}__M{mom}\"] = []\n",
    "                else:\n",
    "                    pass\n",
    "                AGG_DICT_SIMPLE[f\"LR{lr}__M{mom}\"].append(SCORE)\n",
    "                \n",
    "\n",
    "\n",
    "\n",
    "\n",
    "    print(\"\\n\")\n",
    "    print(COUNTER)\n",
    "    return AGG_SCORE, AGG_DICT,AGG_DICT_SIMPLE"
   ]
  },
  {
   "cell_type": "markdown",
   "id": "6bebaa26-dabf-4122-bce5-a870bfda11d4",
   "metadata": {},
   "source": [
    "# <font color = 'lime'> Cross Validation && HP-GS @ FULL `X_train`"
   ]
  },
  {
   "cell_type": "code",
   "execution_count": 135,
   "id": "a81ac9de-d6e7-4aec-a33b-d1caf7cfb7ea",
   "metadata": {},
   "outputs": [
    {
     "data": {
      "text/plain": [
       "49.0"
      ]
     },
     "execution_count": 135,
     "metadata": {},
     "output_type": "execute_result"
    }
   ],
   "source": [
    "392/8"
   ]
  },
  {
   "cell_type": "code",
   "execution_count": 136,
   "id": "20568001-655f-495b-8cc6-ddb66a8d2b52",
   "metadata": {},
   "outputs": [
    {
     "name": "stdout",
     "output_type": "stream",
     "text": [
      "CPU times: total: 0 ns\n",
      "Wall time: 0 ns\n"
     ]
    }
   ],
   "source": [
    "%%time\n",
    "results = {}\n",
    "\n",
    "def ANN3(LR=0.01,MOMENT=0.1,X=X_train,y=y_train,i=0):    \n",
    "    model = Sequential()\n",
    "    model.add(Dense(784, activation='relu', kernel_initializer='uniform',input_dim = INPUT_DIM))\n",
    "    model.add(Dropout(0.25))\n",
    "    \n",
    "    model.add(Dense(392, kernel_initializer='uniform', activation='relu'))\n",
    "    model.add(Dropout(0.25))\n",
    "    \n",
    "    model.add(Dense(196, kernel_initializer='uniform', activation='relu'))\n",
    "    model.add(Dropout(0.25))\n",
    "    \n",
    "    model.add(Dense(98, kernel_initializer='uniform', activation='relu'))\n",
    "    model.add(Dropout(0.25))\n",
    "    \n",
    "    model.add(Dense(49, kernel_initializer='uniform', activation='relu'))\n",
    "    model.add(Dropout(0.25))\n",
    "    \n",
    "    model.add(Dense(NUM_CLASSES, kernel_initializer='uniform',activation='softmax'))\n",
    "\n",
    "    optimizer = SGD(learning_rate=LR, momentum = MOMENT)\n",
    "    model.compile(loss='sparse_categorical_crossentropy',optimizer = optimizer, metrics=['acc'])\n",
    "    \n",
    "    # print(f'LR_{LR}__MOM{MOMENT}_{i}')\n",
    "    history = model.fit(X, y,epochs=EPOCHS,batch_size = BATCH_SIZE,verbose=0)\n",
    "    # print(\"\")\n",
    "    evaluation = model.evaluate(X_test,y_test,verbose=0)\n",
    "    # print(\"\")\n",
    "    results[f'LR_{LR}__MOM{MOMENT}'] = evaluation[1]\n",
    "    return evaluation[1]\n",
    "    # pd.DataFrame(history.history).plot()\n",
    "    # plt.title(f\"LR_{LR}__MOM{MOMENT}\")\n",
    "    # plt.show();"
   ]
  },
  {
   "cell_type": "code",
   "execution_count": 138,
   "id": "51fb1fb7-cef8-4aa3-b34b-5ef11d65b7b1",
   "metadata": {},
   "outputs": [
    {
     "name": "stdout",
     "output_type": "stream",
     "text": [
      "CPU times: total: 0 ns\n",
      "Wall time: 0 ns\n"
     ]
    }
   ],
   "source": [
    "%%time\n",
    "from sklearn.utils import shuffle\n",
    "def cv_np(K_FOLD = 5, np_shape = X_train.shape[0],SEED=np.random.randint(1,999)):  \n",
    "    K_FOLD = K_FOLD\n",
    "    SLICE_LEN = X_train.shape[0]//K_FOLD\n",
    "    # SEED = 415\n",
    "    np0 = shuffle(X_train,y_train,random_state=SEED)\n",
    "\n",
    "    COUNTER=0\n",
    "    AGG_SCORE = []\n",
    "    AGG_DICT = {}\n",
    "    AGG_DICT_SIMPLE = {}\n",
    "    \n",
    "    for lr in learning_rate:\n",
    "        for mom in momentum:            \n",
    "            for x in range(K_FOLD):\n",
    "                COUNTER+=1\n",
    "                i = (x*SLICE_LEN)\n",
    "                j = ((x+1)*SLICE_LEN)\n",
    "                # print(np0[0][i:j]) # slice iteration for X\n",
    "                X_cv=np0[0][i:j]\n",
    "\n",
    "                y_cv=np0[1][i:j]\n",
    "\n",
    "                SCORE = ANN3(lr, mom, X_cv,y_cv)\n",
    "                # AGG_SCORE.append(SCORE)\n",
    "                \n",
    "                # AGG_DICT[f\"LR{lr}__M{mom}_{x}\"] = SCORE\n",
    "                \n",
    "                if f\"LR{lr}__M{mom}\" not in AGG_DICT_SIMPLE.keys():\n",
    "                    AGG_DICT_SIMPLE[f\"LR{lr}__M{mom}\"] = []\n",
    "                else:\n",
    "                    pass\n",
    "                AGG_DICT_SIMPLE[f\"LR{lr}__M{mom}\"].append(SCORE)\n",
    "                \n",
    "\n",
    "\n",
    "\n",
    "\n",
    "    print(\"\\n\")\n",
    "    print(COUNTER)\n",
    "    return AGG_SCORE, AGG_DICT,AGG_DICT_SIMPLE"
   ]
  },
  {
   "cell_type": "code",
   "execution_count": 139,
   "id": "107f7bdf-3417-4cde-bc8d-9e40348d3be6",
   "metadata": {},
   "outputs": [
    {
     "name": "stdout",
     "output_type": "stream",
     "text": [
      "\n",
      "\n",
      "80\n",
      "CPU times: total: 5min 27s\n",
      "Wall time: 4min 25s\n"
     ]
    }
   ],
   "source": [
    "%%time\n",
    "final100 = cv_np(5)"
   ]
  },
  {
   "cell_type": "code",
   "execution_count": 140,
   "id": "c6aba2f7-8042-4415-8c89-5c47c357c663",
   "metadata": {},
   "outputs": [
    {
     "data": {
      "text/html": [
       "<div>\n",
       "<style scoped>\n",
       "    .dataframe tbody tr th:only-of-type {\n",
       "        vertical-align: middle;\n",
       "    }\n",
       "\n",
       "    .dataframe tbody tr th {\n",
       "        vertical-align: top;\n",
       "    }\n",
       "\n",
       "    .dataframe thead th {\n",
       "        text-align: right;\n",
       "    }\n",
       "</style>\n",
       "<table border=\"1\" class=\"dataframe\">\n",
       "  <thead>\n",
       "    <tr style=\"text-align: right;\">\n",
       "      <th></th>\n",
       "      <th>LR0.0001__M0.3</th>\n",
       "      <th>LR0.0001__M0.5</th>\n",
       "      <th>LR0.0001__M0.7</th>\n",
       "      <th>LR0.0001__M0.9</th>\n",
       "      <th>LR0.001__M0.3</th>\n",
       "      <th>LR0.001__M0.5</th>\n",
       "      <th>LR0.001__M0.7</th>\n",
       "      <th>LR0.001__M0.9</th>\n",
       "      <th>LR0.01__M0.3</th>\n",
       "      <th>LR0.01__M0.5</th>\n",
       "      <th>LR0.01__M0.7</th>\n",
       "      <th>LR0.01__M0.9</th>\n",
       "      <th>LR0.1__M0.3</th>\n",
       "      <th>LR0.1__M0.5</th>\n",
       "      <th>LR0.1__M0.7</th>\n",
       "      <th>LR0.1__M0.9</th>\n",
       "    </tr>\n",
       "  </thead>\n",
       "  <tbody>\n",
       "    <tr>\n",
       "      <th>0</th>\n",
       "      <td>0.1230</td>\n",
       "      <td>0.1138</td>\n",
       "      <td>0.1135</td>\n",
       "      <td>0.1135</td>\n",
       "      <td>0.1135</td>\n",
       "      <td>0.1135</td>\n",
       "      <td>0.1135</td>\n",
       "      <td>0.1135</td>\n",
       "      <td>0.1135</td>\n",
       "      <td>0.1135</td>\n",
       "      <td>0.1135</td>\n",
       "      <td>0.1135</td>\n",
       "      <td>0.1135</td>\n",
       "      <td>0.5231</td>\n",
       "      <td>0.8649</td>\n",
       "      <td>0.9220</td>\n",
       "    </tr>\n",
       "    <tr>\n",
       "      <th>1</th>\n",
       "      <td>0.1575</td>\n",
       "      <td>0.1135</td>\n",
       "      <td>0.1135</td>\n",
       "      <td>0.1135</td>\n",
       "      <td>0.1135</td>\n",
       "      <td>0.1135</td>\n",
       "      <td>0.1135</td>\n",
       "      <td>0.1135</td>\n",
       "      <td>0.1135</td>\n",
       "      <td>0.1135</td>\n",
       "      <td>0.1135</td>\n",
       "      <td>0.1135</td>\n",
       "      <td>0.1161</td>\n",
       "      <td>0.4413</td>\n",
       "      <td>0.8939</td>\n",
       "      <td>0.9368</td>\n",
       "    </tr>\n",
       "    <tr>\n",
       "      <th>2</th>\n",
       "      <td>0.1135</td>\n",
       "      <td>0.1135</td>\n",
       "      <td>0.1337</td>\n",
       "      <td>0.1135</td>\n",
       "      <td>0.1135</td>\n",
       "      <td>0.1135</td>\n",
       "      <td>0.1135</td>\n",
       "      <td>0.1135</td>\n",
       "      <td>0.1135</td>\n",
       "      <td>0.1135</td>\n",
       "      <td>0.1135</td>\n",
       "      <td>0.1135</td>\n",
       "      <td>0.1549</td>\n",
       "      <td>0.4122</td>\n",
       "      <td>0.9064</td>\n",
       "      <td>0.9131</td>\n",
       "    </tr>\n",
       "    <tr>\n",
       "      <th>3</th>\n",
       "      <td>0.1145</td>\n",
       "      <td>0.0976</td>\n",
       "      <td>0.1006</td>\n",
       "      <td>0.1135</td>\n",
       "      <td>0.1135</td>\n",
       "      <td>0.1135</td>\n",
       "      <td>0.1135</td>\n",
       "      <td>0.1135</td>\n",
       "      <td>0.1135</td>\n",
       "      <td>0.1135</td>\n",
       "      <td>0.1135</td>\n",
       "      <td>0.1135</td>\n",
       "      <td>0.1135</td>\n",
       "      <td>0.4351</td>\n",
       "      <td>0.8791</td>\n",
       "      <td>0.9311</td>\n",
       "    </tr>\n",
       "    <tr>\n",
       "      <th>4</th>\n",
       "      <td>0.1172</td>\n",
       "      <td>0.1697</td>\n",
       "      <td>0.1135</td>\n",
       "      <td>0.1135</td>\n",
       "      <td>0.1135</td>\n",
       "      <td>0.1135</td>\n",
       "      <td>0.1135</td>\n",
       "      <td>0.1135</td>\n",
       "      <td>0.1135</td>\n",
       "      <td>0.1135</td>\n",
       "      <td>0.1135</td>\n",
       "      <td>0.1135</td>\n",
       "      <td>0.2328</td>\n",
       "      <td>0.3016</td>\n",
       "      <td>0.8854</td>\n",
       "      <td>0.9332</td>\n",
       "    </tr>\n",
       "  </tbody>\n",
       "</table>\n",
       "</div>"
      ],
      "text/plain": [
       "   LR0.0001__M0.3  LR0.0001__M0.5  LR0.0001__M0.7  LR0.0001__M0.9  \\\n",
       "0          0.1230          0.1138          0.1135          0.1135   \n",
       "1          0.1575          0.1135          0.1135          0.1135   \n",
       "2          0.1135          0.1135          0.1337          0.1135   \n",
       "3          0.1145          0.0976          0.1006          0.1135   \n",
       "4          0.1172          0.1697          0.1135          0.1135   \n",
       "\n",
       "   LR0.001__M0.3  LR0.001__M0.5  LR0.001__M0.7  LR0.001__M0.9  LR0.01__M0.3  \\\n",
       "0         0.1135         0.1135         0.1135         0.1135        0.1135   \n",
       "1         0.1135         0.1135         0.1135         0.1135        0.1135   \n",
       "2         0.1135         0.1135         0.1135         0.1135        0.1135   \n",
       "3         0.1135         0.1135         0.1135         0.1135        0.1135   \n",
       "4         0.1135         0.1135         0.1135         0.1135        0.1135   \n",
       "\n",
       "   LR0.01__M0.5  LR0.01__M0.7  LR0.01__M0.9  LR0.1__M0.3  LR0.1__M0.5  \\\n",
       "0        0.1135        0.1135        0.1135       0.1135       0.5231   \n",
       "1        0.1135        0.1135        0.1135       0.1161       0.4413   \n",
       "2        0.1135        0.1135        0.1135       0.1549       0.4122   \n",
       "3        0.1135        0.1135        0.1135       0.1135       0.4351   \n",
       "4        0.1135        0.1135        0.1135       0.2328       0.3016   \n",
       "\n",
       "   LR0.1__M0.7  LR0.1__M0.9  \n",
       "0       0.8649       0.9220  \n",
       "1       0.8939       0.9368  \n",
       "2       0.9064       0.9131  \n",
       "3       0.8791       0.9311  \n",
       "4       0.8854       0.9332  "
      ]
     },
     "execution_count": 140,
     "metadata": {},
     "output_type": "execute_result"
    }
   ],
   "source": [
    "pd.DataFrame(final100[-1])"
   ]
  },
  {
   "cell_type": "code",
   "execution_count": 141,
   "id": "d177153a-ae50-4e54-a7c9-f649492b37fc",
   "metadata": {},
   "outputs": [
    {
     "data": {
      "text/plain": [
       "LR0.0001__M0.3    0.12514\n",
       "LR0.0001__M0.5    0.12162\n",
       "LR0.0001__M0.7    0.11496\n",
       "LR0.0001__M0.9    0.11350\n",
       "LR0.001__M0.3     0.11350\n",
       "LR0.001__M0.5     0.11350\n",
       "LR0.001__M0.7     0.11350\n",
       "LR0.001__M0.9     0.11350\n",
       "LR0.01__M0.3      0.11350\n",
       "LR0.01__M0.5      0.11350\n",
       "LR0.01__M0.7      0.11350\n",
       "LR0.01__M0.9      0.11350\n",
       "LR0.1__M0.3       0.14616\n",
       "LR0.1__M0.5       0.42266\n",
       "LR0.1__M0.7       0.88594\n",
       "LR0.1__M0.9       0.92724\n",
       "dtype: float64"
      ]
     },
     "execution_count": 141,
     "metadata": {},
     "output_type": "execute_result"
    }
   ],
   "source": [
    "pd.DataFrame(final100[-1]).mean()"
   ]
  },
  {
   "cell_type": "markdown",
   "id": "1d9fd3c1-639d-47fc-8c2b-752c35f81a35",
   "metadata": {},
   "source": [
    "# SGD @ full 60,000\n",
    "    LR0.0001__M0.3    0.12514\n",
    "    LR0.0001__M0.5    0.12162\n",
    "    LR0.0001__M0.7    0.11496\n",
    "    LR0.0001__M0.9    0.11350\n",
    "    LR0.001__M0.3     0.11350\n",
    "    LR0.001__M0.5     0.11350\n",
    "    LR0.001__M0.7     0.11350\n",
    "    LR0.001__M0.9     0.11350\n",
    "    LR0.01__M0.3      0.11350\n",
    "    LR0.01__M0.5      0.11350\n",
    "    LR0.01__M0.7      0.11350\n",
    "    LR0.01__M0.9      0.11350\n",
    "    LR0.1__M0.3       0.14616\n",
    "    LR0.1__M0.5       0.42266\n",
    "    LR0.1__M0.7       0.88594\n",
    "    LR0.1__M0.9       0.92724\n",
    "    dtype: float64"
   ]
  },
  {
   "cell_type": "code",
   "execution_count": 125,
   "id": "9e6b9d00-5678-4353-9c88-33987d637e09",
   "metadata": {},
   "outputs": [
    {
     "data": {
      "text/plain": [
       "(60000, 784)"
      ]
     },
     "execution_count": 125,
     "metadata": {},
     "output_type": "execute_result"
    }
   ],
   "source": [
    "X_train.shape"
   ]
  },
  {
   "cell_type": "code",
   "execution_count": 104,
   "id": "b4444cea-48dc-4570-8007-4b60286af9a4",
   "metadata": {},
   "outputs": [],
   "source": [
    "# @6000 obs\n",
    "\n",
    "# 80\n",
    "# CPU times: total: 1min 52s\n",
    "# Wall time: 1min 28s\n",
    "\n",
    "\n",
    "# 80\n",
    "# CPU times: total: 1min 50s\n",
    "# Wall time: 1min 26s\n",
    "\n",
    "# 80\n",
    "# CPU times: total: 1min 53s\n",
    "# Wall time: 1min 27s\n",
    "\n",
    "\n",
    "\n",
    "# @ 60000 obs\n",
    "# 80\n",
    "# CPU times: total: 3min 54s\n",
    "# Wall time: 2min 58s"
   ]
  },
  {
   "cell_type": "code",
   "execution_count": 106,
   "id": "70d258c0-8fef-47fe-8677-34b02d466956",
   "metadata": {},
   "outputs": [
    {
     "data": {
      "text/plain": [
       "LR0.0001__M0.3    0.10252\n",
       "LR0.0001__M0.5    0.10026\n",
       "LR0.0001__M0.7    0.10108\n",
       "LR0.0001__M0.9    0.11408\n",
       "LR0.001__M0.3     0.09240\n",
       "LR0.001__M0.5     0.09936\n",
       "LR0.001__M0.7     0.08668\n",
       "LR0.001__M0.9     0.11820\n",
       "LR0.01__M0.3      0.12278\n",
       "LR0.01__M0.5      0.12670\n",
       "LR0.01__M0.7      0.14312\n",
       "LR0.01__M0.9      0.14574\n",
       "LR0.1__M0.3       0.18116\n",
       "LR0.1__M0.5       0.27790\n",
       "LR0.1__M0.7       0.53914\n",
       "LR0.1__M0.9       0.78588\n",
       "dtype: float64"
      ]
     },
     "execution_count": 106,
     "metadata": {},
     "output_type": "execute_result"
    }
   ],
   "source": [
    "pd.DataFrame(final2[-1]).mean()"
   ]
  },
  {
   "cell_type": "markdown",
   "id": "c8cd3077-43ee-4bb2-9876-2796bd668452",
   "metadata": {},
   "source": [
    "    LR0.0001__M0.3    0.08854\n",
    "    LR0.0001__M0.5    0.08790\n",
    "    LR0.0001__M0.7    0.11222\n",
    "    LR0.0001__M0.9    0.11600\n",
    "    LR0.001__M0.3     0.09048\n",
    "    LR0.001__M0.5     0.09236\n",
    "    LR0.001__M0.7     0.13160\n",
    "    LR0.001__M0.9     0.13804\n",
    "    LR0.01__M0.3      0.12514\n",
    "    LR0.01__M0.5      0.14140\n",
    "    LR0.01__M0.7      0.13324\n",
    "    LR0.01__M0.9      0.17660\n",
    "    LR0.1__M0.3       0.21770\n",
    "    LR0.1__M0.5       0.30090\n",
    "    LR0.1__M0.7       0.55796\n",
    "    LR0.1__M0.9       0.78242\n",
    "    dtype: float64"
   ]
  }
 ],
 "metadata": {
  "kernelspec": {
   "display_name": "Python 3 (ipykernel)",
   "language": "python",
   "name": "python3"
  },
  "language_info": {
   "codemirror_mode": {
    "name": "ipython",
    "version": 3
   },
   "file_extension": ".py",
   "mimetype": "text/x-python",
   "name": "python",
   "nbconvert_exporter": "python",
   "pygments_lexer": "ipython3",
   "version": "3.10.4"
  },
  "widgets": {
   "application/vnd.jupyter.widget-state+json": {
    "state": {},
    "version_major": 2,
    "version_minor": 0
   }
  }
 },
 "nbformat": 4,
 "nbformat_minor": 5
}
